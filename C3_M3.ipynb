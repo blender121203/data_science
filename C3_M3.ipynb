{
 "cells": [
  {
   "cell_type": "markdown",
   "metadata": {},
   "source": [
    "# Модуль 3"
   ]
  },
  {
   "cell_type": "markdown",
   "metadata": {},
   "source": [
    "## Загружаем датасет из предыдущего модуля и немножко его преобрабатываем"
   ]
  },
  {
   "cell_type": "markdown",
   "metadata": {},
   "source": [
    "В этой сессии снова сделаем разбиение на обучающую и тестовую выборки для более простого импорта одного датасета, вместо 4"
   ]
  },
  {
   "cell_type": "code",
   "execution_count": 7,
   "metadata": {},
   "outputs": [],
   "source": [
    "#Импортируем библиотеки\n",
    "import pandas as pd #библиотека для работы с датасетом\n",
    "import warnings #игнорирование ошибок\n",
    "warnings.filterwarnings(\"ignore\")"
   ]
  },
  {
   "cell_type": "code",
   "execution_count": 8,
   "metadata": {},
   "outputs": [],
   "source": [
    "#Загружаем обработанный датасет в предыдущей сессии \n",
    "df = pd.read_csv('C3_M2.csv')\n",
    "df = df.drop('Unnamed: 0', axis=1)"
   ]
  },
  {
   "cell_type": "code",
   "execution_count": 9,
   "metadata": {},
   "outputs": [
    {
     "data": {
      "text/html": [
       "<div>\n",
       "<style scoped>\n",
       "    .dataframe tbody tr th:only-of-type {\n",
       "        vertical-align: middle;\n",
       "    }\n",
       "\n",
       "    .dataframe tbody tr th {\n",
       "        vertical-align: top;\n",
       "    }\n",
       "\n",
       "    .dataframe thead th {\n",
       "        text-align: right;\n",
       "    }\n",
       "</style>\n",
       "<table border=\"1\" class=\"dataframe\">\n",
       "  <thead>\n",
       "    <tr style=\"text-align: right;\">\n",
       "      <th></th>\n",
       "      <th>light</th>\n",
       "      <th>region</th>\n",
       "      <th>address</th>\n",
       "      <th>category</th>\n",
       "      <th>severity</th>\n",
       "      <th>injured_count</th>\n",
       "      <th>parent_region</th>\n",
       "      <th>road_conditions</th>\n",
       "      <th>participants_count</th>\n",
       "    </tr>\n",
       "  </thead>\n",
       "  <tbody>\n",
       "    <tr>\n",
       "      <th>0</th>\n",
       "      <td>4</td>\n",
       "      <td>150</td>\n",
       "      <td>110982</td>\n",
       "      <td>16</td>\n",
       "      <td>0</td>\n",
       "      <td>4</td>\n",
       "      <td>0</td>\n",
       "      <td>3912</td>\n",
       "      <td>5</td>\n",
       "    </tr>\n",
       "    <tr>\n",
       "      <th>1</th>\n",
       "      <td>4</td>\n",
       "      <td>1429</td>\n",
       "      <td>75284</td>\n",
       "      <td>16</td>\n",
       "      <td>2</td>\n",
       "      <td>3</td>\n",
       "      <td>0</td>\n",
       "      <td>3912</td>\n",
       "      <td>4</td>\n",
       "    </tr>\n",
       "    <tr>\n",
       "      <th>2</th>\n",
       "      <td>4</td>\n",
       "      <td>1830</td>\n",
       "      <td>75232</td>\n",
       "      <td>12</td>\n",
       "      <td>2</td>\n",
       "      <td>1</td>\n",
       "      <td>0</td>\n",
       "      <td>3912</td>\n",
       "      <td>2</td>\n",
       "    </tr>\n",
       "    <tr>\n",
       "      <th>3</th>\n",
       "      <td>2</td>\n",
       "      <td>815</td>\n",
       "      <td>26278</td>\n",
       "      <td>9</td>\n",
       "      <td>1</td>\n",
       "      <td>0</td>\n",
       "      <td>0</td>\n",
       "      <td>417</td>\n",
       "      <td>2</td>\n",
       "    </tr>\n",
       "    <tr>\n",
       "      <th>4</th>\n",
       "      <td>0</td>\n",
       "      <td>150</td>\n",
       "      <td>112217</td>\n",
       "      <td>9</td>\n",
       "      <td>2</td>\n",
       "      <td>1</td>\n",
       "      <td>0</td>\n",
       "      <td>2738</td>\n",
       "      <td>2</td>\n",
       "    </tr>\n",
       "    <tr>\n",
       "      <th>...</th>\n",
       "      <td>...</td>\n",
       "      <td>...</td>\n",
       "      <td>...</td>\n",
       "      <td>...</td>\n",
       "      <td>...</td>\n",
       "      <td>...</td>\n",
       "      <td>...</td>\n",
       "      <td>...</td>\n",
       "      <td>...</td>\n",
       "    </tr>\n",
       "    <tr>\n",
       "      <th>735091</th>\n",
       "      <td>0</td>\n",
       "      <td>252</td>\n",
       "      <td>390265</td>\n",
       "      <td>9</td>\n",
       "      <td>2</td>\n",
       "      <td>1</td>\n",
       "      <td>84</td>\n",
       "      <td>417</td>\n",
       "      <td>2</td>\n",
       "    </tr>\n",
       "    <tr>\n",
       "      <th>735092</th>\n",
       "      <td>4</td>\n",
       "      <td>252</td>\n",
       "      <td>91218</td>\n",
       "      <td>11</td>\n",
       "      <td>1</td>\n",
       "      <td>0</td>\n",
       "      <td>84</td>\n",
       "      <td>4365</td>\n",
       "      <td>3</td>\n",
       "    </tr>\n",
       "    <tr>\n",
       "      <th>735093</th>\n",
       "      <td>2</td>\n",
       "      <td>252</td>\n",
       "      <td>12981</td>\n",
       "      <td>2</td>\n",
       "      <td>1</td>\n",
       "      <td>0</td>\n",
       "      <td>84</td>\n",
       "      <td>3912</td>\n",
       "      <td>2</td>\n",
       "    </tr>\n",
       "    <tr>\n",
       "      <th>735094</th>\n",
       "      <td>4</td>\n",
       "      <td>252</td>\n",
       "      <td>91221</td>\n",
       "      <td>16</td>\n",
       "      <td>0</td>\n",
       "      <td>1</td>\n",
       "      <td>84</td>\n",
       "      <td>4364</td>\n",
       "      <td>3</td>\n",
       "    </tr>\n",
       "    <tr>\n",
       "      <th>735095</th>\n",
       "      <td>4</td>\n",
       "      <td>252</td>\n",
       "      <td>91219</td>\n",
       "      <td>17</td>\n",
       "      <td>2</td>\n",
       "      <td>1</td>\n",
       "      <td>84</td>\n",
       "      <td>364</td>\n",
       "      <td>1</td>\n",
       "    </tr>\n",
       "  </tbody>\n",
       "</table>\n",
       "<p>735096 rows × 9 columns</p>\n",
       "</div>"
      ],
      "text/plain": [
       "        light  region  address  category  severity  injured_count  \\\n",
       "0           4     150   110982        16         0              4   \n",
       "1           4    1429    75284        16         2              3   \n",
       "2           4    1830    75232        12         2              1   \n",
       "3           2     815    26278         9         1              0   \n",
       "4           0     150   112217         9         2              1   \n",
       "...       ...     ...      ...       ...       ...            ...   \n",
       "735091      0     252   390265         9         2              1   \n",
       "735092      4     252    91218        11         1              0   \n",
       "735093      2     252    12981         2         1              0   \n",
       "735094      4     252    91221        16         0              1   \n",
       "735095      4     252    91219        17         2              1   \n",
       "\n",
       "        parent_region  road_conditions  participants_count  \n",
       "0                   0             3912                   5  \n",
       "1                   0             3912                   4  \n",
       "2                   0             3912                   2  \n",
       "3                   0              417                   2  \n",
       "4                   0             2738                   2  \n",
       "...               ...              ...                 ...  \n",
       "735091             84              417                   2  \n",
       "735092             84             4365                   3  \n",
       "735093             84             3912                   2  \n",
       "735094             84             4364                   3  \n",
       "735095             84              364                   1  \n",
       "\n",
       "[735096 rows x 9 columns]"
      ]
     },
     "execution_count": 9,
     "metadata": {},
     "output_type": "execute_result"
    }
   ],
   "source": [
    "df #Проверяем датасет на корректность импорта"
   ]
  },
  {
   "cell_type": "markdown",
   "metadata": {},
   "source": [
    "## 3.1 Визуализация зависимостей данных"
   ]
  },
  {
   "cell_type": "markdown",
   "metadata": {},
   "source": [
    "Для классификации надо понять, зависят ли атрибуты друг от друга и, если да, то какие и как. Для этого использует тепловую карту и матрицу."
   ]
  },
  {
   "cell_type": "markdown",
   "metadata": {},
   "source": [
    "### Тепловая карта"
   ]
  },
  {
   "cell_type": "code",
   "execution_count": null,
   "metadata": {},
   "outputs": [],
   "source": [
    "# Импорт библиотеки\n",
    "import seaborn as sns\n",
    "# Отображение тепловой карты\n",
    "sns.heatmap(df.corr());"
   ]
  },
  {
   "cell_type": "markdown",
   "metadata": {},
   "source": [
    "Интерпретировав результат можно сказать, что адреса не зависят от региона, поэтому эти данные удалять не стоит."
   ]
  },
  {
   "cell_type": "markdown",
   "metadata": {},
   "source": [
    "### Матрица"
   ]
  },
  {
   "cell_type": "code",
   "execution_count": null,
   "metadata": {},
   "outputs": [],
   "source": [
    "# Импорт библиотеки\n",
    "from pandas.plotting import scatter_matrix\n",
    "# Отображение матрицы\n",
    "scatter_matrix(df, alpha=0.05, figsize=(10, 10));"
   ]
  },
  {
   "cell_type": "markdown",
   "metadata": {},
   "source": [
    "С помощью матрицы можно сделать такой же вывод, что адреса зависят от региона"
   ]
  },
  {
   "cell_type": "markdown",
   "metadata": {},
   "source": [
    "## 3.2 Классификация и 3.3 Обучение"
   ]
  },
  {
   "cell_type": "markdown",
   "metadata": {},
   "source": [
    "Теперь надо понять, какую модель классификации выбрать и обучить на тестовых данных. Для этого я возьму 3 метода классификации: RF, KNN, GBT, посмотрю какой метод справился лучше всех."
   ]
  },
  {
   "cell_type": "markdown",
   "metadata": {},
   "source": [
    "Скейлируем масштаб таблицы и нормализуем данные"
   ]
  },
  {
   "cell_type": "code",
   "execution_count": 10,
   "metadata": {},
   "outputs": [],
   "source": [
    "# Масштабирование таблицы\n",
    "from sklearn.preprocessing import StandardScaler\n",
    "scaler = StandardScaler()\n",
    "scaler.fit(df.drop('severity', axis=1))\n",
    "scaled_features = scaler.transform(df.drop('severity', axis=1))\n",
    "scaled_data = pd.DataFrame(scaled_features, columns = df.drop('severity', axis=1).columns)\n",
    "\n",
    "# Загружаем библиотеку для разделения на выборки\n",
    "from sklearn.model_selection import train_test_split\n",
    "\n",
    "# Разделение в соотношении 66/33 с шагом 42\n",
    "X_train, X_test, y_train, y_test = train_test_split(scaled_data, df.severity, test_size=0.2, random_state=42)"
   ]
  },
  {
   "cell_type": "markdown",
   "metadata": {},
   "source": [
    "### Классификация Random Forest"
   ]
  },
  {
   "cell_type": "markdown",
   "metadata": {},
   "source": [
    "Алгоритм строит ансамбль случайных деревьев, каждое из которых обучается на выборке, полученной из исходной с помощью процедуры изъятия с возвращением."
   ]
  },
  {
   "cell_type": "code",
   "execution_count": null,
   "metadata": {},
   "outputs": [],
   "source": [
    "# Импортируем библиотеку для обучения\n",
    "from sklearn import ensemble\n",
    "import numpy as np\n",
    "\n",
    "#Обучаем модель\n",
    "rf = ensemble.RandomForestClassifier(n_estimators=100, random_state=10)\n",
    "rf.fit(X_train, y_train)\n",
    "\n",
    "# Оценка ошибок\n",
    "err_train = np.mean(y_train != rf.predict(X_train))\n",
    "err_test  = np.mean(y_test  != rf.predict(X_test))"
   ]
  },
  {
   "cell_type": "code",
   "execution_count": null,
   "metadata": {},
   "outputs": [],
   "source": [
    "#Вывод процента ошибок\n",
    "print(err_train, err_test)"
   ]
  },
  {
   "cell_type": "markdown",
   "metadata": {},
   "source": [
    "Точность 100% и 65%\n",
    "0.006 0.355"
   ]
  },
  {
   "cell_type": "markdown",
   "metadata": {},
   "source": [
    "### Классификация K-Neighbors"
   ]
  },
  {
   "cell_type": "markdown",
   "metadata": {},
   "source": [
    "Для нового объекта алгоритм ищет в обучающей выборке k наиболее близких объекта и относит новый объект к тому классу, которому принадлежит большинство из них."
   ]
  },
  {
   "cell_type": "code",
   "execution_count": null,
   "metadata": {},
   "outputs": [],
   "source": [
    "# Импортируем библиотеку для обучения\n",
    "from sklearn.neighbors import KNeighborsClassifier\n",
    "import numpy as np\n",
    "\n",
    "#Обучаем модель\n",
    "knn = KNeighborsClassifier(n_neighbors = 8)\n",
    "knn.fit(X_train, y_train)\n",
    "y_train_predict = knn.predict(X_train)\n",
    "y_test_predict = knn.predict(X_test)\n",
    "\n",
    "# Оценка ошибок\n",
    "err_train = np.mean(y_train != y_train_predict)\n",
    "err_test  = np.mean(y_test  != y_test_predict)"
   ]
  },
  {
   "cell_type": "code",
   "execution_count": null,
   "metadata": {},
   "outputs": [],
   "source": [
    "#Вывод процента ошибок\n",
    "print(err_train, err_test)"
   ]
  },
  {
   "cell_type": "markdown",
   "metadata": {},
   "source": [
    "Точность 66% и 59%\n",
    "0.338 и 0.419"
   ]
  },
  {
   "cell_type": "markdown",
   "metadata": {},
   "source": [
    "### Классификация Gradient Boosting"
   ]
  },
  {
   "cell_type": "markdown",
   "metadata": {},
   "source": [
    "Строит ансамбль деревьев решений. На каждой итерации строится новый классификатор, аппроксимирующий значение градиента функции потерь."
   ]
  },
  {
   "cell_type": "code",
   "execution_count": null,
   "metadata": {},
   "outputs": [],
   "source": [
    "# Импортируем библиотеку для обучения\n",
    "from sklearn import ensemble\n",
    "import numpy as np\n",
    "\n",
    "#Обучаем модель\n",
    "gbt = ensemble.GradientBoostingClassifier(n_estimators=100, random_state=11)\n",
    "gbt.fit(X_train, y_train)\n",
    "\n",
    "# Оценка ошибок\n",
    "err_train = np.mean(y_train != gbt.predict(X_train))\n",
    "err_test  = np.mean(y_test  != gbt.predict(X_test))"
   ]
  },
  {
   "cell_type": "code",
   "execution_count": null,
   "metadata": {},
   "outputs": [],
   "source": [
    "#Вывод процента ошибок\n",
    "print(err_train, err_test)"
   ]
  },
  {
   "cell_type": "markdown",
   "metadata": {},
   "source": [
    "Точность 66% и 66%\n",
    "0.331 и 0.332"
   ]
  },
  {
   "cell_type": "markdown",
   "metadata": {},
   "source": [
    "Точности моделей недостаточно для достижения желаемого  результата, поэтому путём преобразования набора данных нужно добиться более точной работы выбранных моделей."
   ]
  },
  {
   "cell_type": "markdown",
   "metadata": {},
   "source": [
    "## 3.4 Feature Engineering"
   ]
  },
  {
   "cell_type": "markdown",
   "metadata": {},
   "source": [
    "Для начала сделаем алгоритм, который подберёт лучший вариант параметра n_neighbors с наивысшей точностью. Он позволит нам сразу повысить точность модели"
   ]
  },
  {
   "cell_type": "markdown",
   "metadata": {},
   "source": [
    "### KNN алгоритм определения параметра"
   ]
  },
  {
   "cell_type": "code",
   "execution_count": null,
   "metadata": {},
   "outputs": [],
   "source": [
    "#Импортируем библиотеку для определения наилучшего параметра n_neighbors\n",
    "import numpy as np\n",
    "from sklearn.neighbors import KNeighborsClassifier\n",
    "\n",
    "error_rates = []\n",
    "for i in np.arange(1, 101):\n",
    "    new_model = KNeighborsClassifier(n_neighbors = i)\n",
    "    new_model.fit(X_train, y_train)\n",
    "    new_predictions = new_model.predict(X_test)\n",
    "    error_rates.append(np.mean(new_predictions != y_test))\n",
    "plt.plot(error_rates)"
   ]
  },
  {
   "cell_type": "markdown",
   "metadata": {},
   "source": [
    "Алгоритм выдал наилучший результат n_neighbors = 18. Теперь удалим столбцы с большим и малым разбросом данных."
   ]
  },
  {
   "cell_type": "code",
   "execution_count": 11,
   "metadata": {},
   "outputs": [],
   "source": [
    "#Создаём новуб таблицу и удаляем данные для Feature Engineering\n",
    "df_new = df.drop(['region', 'parent_region', 'address'], axis=1) #Удаляем данные о регионе, адресах"
   ]
  },
  {
   "cell_type": "code",
   "execution_count": 12,
   "metadata": {},
   "outputs": [
    {
     "data": {
      "text/html": [
       "<div>\n",
       "<style scoped>\n",
       "    .dataframe tbody tr th:only-of-type {\n",
       "        vertical-align: middle;\n",
       "    }\n",
       "\n",
       "    .dataframe tbody tr th {\n",
       "        vertical-align: top;\n",
       "    }\n",
       "\n",
       "    .dataframe thead th {\n",
       "        text-align: right;\n",
       "    }\n",
       "</style>\n",
       "<table border=\"1\" class=\"dataframe\">\n",
       "  <thead>\n",
       "    <tr style=\"text-align: right;\">\n",
       "      <th></th>\n",
       "      <th>light</th>\n",
       "      <th>category</th>\n",
       "      <th>severity</th>\n",
       "      <th>injured_count</th>\n",
       "      <th>road_conditions</th>\n",
       "      <th>participants_count</th>\n",
       "    </tr>\n",
       "  </thead>\n",
       "  <tbody>\n",
       "    <tr>\n",
       "      <th>0</th>\n",
       "      <td>4</td>\n",
       "      <td>16</td>\n",
       "      <td>0</td>\n",
       "      <td>4</td>\n",
       "      <td>3912</td>\n",
       "      <td>5</td>\n",
       "    </tr>\n",
       "    <tr>\n",
       "      <th>1</th>\n",
       "      <td>4</td>\n",
       "      <td>16</td>\n",
       "      <td>2</td>\n",
       "      <td>3</td>\n",
       "      <td>3912</td>\n",
       "      <td>4</td>\n",
       "    </tr>\n",
       "    <tr>\n",
       "      <th>2</th>\n",
       "      <td>4</td>\n",
       "      <td>12</td>\n",
       "      <td>2</td>\n",
       "      <td>1</td>\n",
       "      <td>3912</td>\n",
       "      <td>2</td>\n",
       "    </tr>\n",
       "    <tr>\n",
       "      <th>3</th>\n",
       "      <td>2</td>\n",
       "      <td>9</td>\n",
       "      <td>1</td>\n",
       "      <td>0</td>\n",
       "      <td>417</td>\n",
       "      <td>2</td>\n",
       "    </tr>\n",
       "    <tr>\n",
       "      <th>4</th>\n",
       "      <td>0</td>\n",
       "      <td>9</td>\n",
       "      <td>2</td>\n",
       "      <td>1</td>\n",
       "      <td>2738</td>\n",
       "      <td>2</td>\n",
       "    </tr>\n",
       "    <tr>\n",
       "      <th>...</th>\n",
       "      <td>...</td>\n",
       "      <td>...</td>\n",
       "      <td>...</td>\n",
       "      <td>...</td>\n",
       "      <td>...</td>\n",
       "      <td>...</td>\n",
       "    </tr>\n",
       "    <tr>\n",
       "      <th>735091</th>\n",
       "      <td>0</td>\n",
       "      <td>9</td>\n",
       "      <td>2</td>\n",
       "      <td>1</td>\n",
       "      <td>417</td>\n",
       "      <td>2</td>\n",
       "    </tr>\n",
       "    <tr>\n",
       "      <th>735092</th>\n",
       "      <td>4</td>\n",
       "      <td>11</td>\n",
       "      <td>1</td>\n",
       "      <td>0</td>\n",
       "      <td>4365</td>\n",
       "      <td>3</td>\n",
       "    </tr>\n",
       "    <tr>\n",
       "      <th>735093</th>\n",
       "      <td>2</td>\n",
       "      <td>2</td>\n",
       "      <td>1</td>\n",
       "      <td>0</td>\n",
       "      <td>3912</td>\n",
       "      <td>2</td>\n",
       "    </tr>\n",
       "    <tr>\n",
       "      <th>735094</th>\n",
       "      <td>4</td>\n",
       "      <td>16</td>\n",
       "      <td>0</td>\n",
       "      <td>1</td>\n",
       "      <td>4364</td>\n",
       "      <td>3</td>\n",
       "    </tr>\n",
       "    <tr>\n",
       "      <th>735095</th>\n",
       "      <td>4</td>\n",
       "      <td>17</td>\n",
       "      <td>2</td>\n",
       "      <td>1</td>\n",
       "      <td>364</td>\n",
       "      <td>1</td>\n",
       "    </tr>\n",
       "  </tbody>\n",
       "</table>\n",
       "<p>735096 rows × 6 columns</p>\n",
       "</div>"
      ],
      "text/plain": [
       "        light  category  severity  injured_count  road_conditions  \\\n",
       "0           4        16         0              4             3912   \n",
       "1           4        16         2              3             3912   \n",
       "2           4        12         2              1             3912   \n",
       "3           2         9         1              0              417   \n",
       "4           0         9         2              1             2738   \n",
       "...       ...       ...       ...            ...              ...   \n",
       "735091      0         9         2              1              417   \n",
       "735092      4        11         1              0             4365   \n",
       "735093      2         2         1              0             3912   \n",
       "735094      4        16         0              1             4364   \n",
       "735095      4        17         2              1              364   \n",
       "\n",
       "        participants_count  \n",
       "0                        5  \n",
       "1                        4  \n",
       "2                        2  \n",
       "3                        2  \n",
       "4                        2  \n",
       "...                    ...  \n",
       "735091                   2  \n",
       "735092                   3  \n",
       "735093                   2  \n",
       "735094                   3  \n",
       "735095                   1  \n",
       "\n",
       "[735096 rows x 6 columns]"
      ]
     },
     "execution_count": 12,
     "metadata": {},
     "output_type": "execute_result"
    }
   ],
   "source": [
    "#Проверяем созданную таблицу\n",
    "df_new"
   ]
  },
  {
   "cell_type": "code",
   "execution_count": 13,
   "metadata": {},
   "outputs": [],
   "source": [
    "# Масштабирование таблицы\n",
    "from sklearn.preprocessing import StandardScaler\n",
    "scaler = StandardScaler()\n",
    "scaler.fit(df_new.drop('severity', axis=1))\n",
    "scaled_features = scaler.transform(df_new.drop('severity', axis=1))\n",
    "scaled_data = pd.DataFrame(scaled_features, columns = df_new.drop('severity', axis=1).columns)\n",
    "\n",
    "# Загружаем библиотеку для разделения на выборки\n",
    "from sklearn.model_selection import train_test_split\n",
    "\n",
    "# Разделение в соотношении 66/33 с шагом 42\n",
    "X_train, X_test, y_train, y_test = train_test_split(scaled_data, df.severity, test_size=0.2, random_state=42)"
   ]
  },
  {
   "cell_type": "markdown",
   "metadata": {},
   "source": [
    "### KNN"
   ]
  },
  {
   "cell_type": "markdown",
   "metadata": {},
   "source": [
    "Изменённый результат метода KNN с обучением"
   ]
  },
  {
   "cell_type": "code",
   "execution_count": null,
   "metadata": {},
   "outputs": [],
   "source": [
    "#Импортируем библиотеки\n",
    "from sklearn.neighbors import KNeighborsClassifier\n",
    "import numpy as np\n",
    "\n",
    "#Обучаем модель\n",
    "knn = KNeighborsClassifier(n_neighbors = 18)\n",
    "knn.fit(X_train, y_train)\n",
    "y_train_predict = knn.predict(X_train)\n",
    "y_test_predict = knn.predict(X_test)\n",
    "\n",
    "# Оценка ошибок\n",
    "err_train = np.mean(y_train != y_train_predict)\n",
    "err_test  = np.mean(y_test != y_test_predict)"
   ]
  },
  {
   "cell_type": "code",
   "execution_count": null,
   "metadata": {},
   "outputs": [],
   "source": [
    "#Вывод процента ошибок\n",
    "print(err_train, err_test)"
   ]
  },
  {
   "cell_type": "markdown",
   "metadata": {},
   "source": [
    "Точность 86% и 91%\n",
    "0,147 и 0,092"
   ]
  },
  {
   "cell_type": "markdown",
   "metadata": {},
   "source": [
    "### GBT"
   ]
  },
  {
   "cell_type": "markdown",
   "metadata": {},
   "source": [
    "GBT метод с обработанным датасетом df_new"
   ]
  },
  {
   "cell_type": "code",
   "execution_count": null,
   "metadata": {},
   "outputs": [],
   "source": [
    "# Импортируем библиотеку для обучения\n",
    "from sklearn import ensemble\n",
    "import numpy as np\n",
    "\n",
    "#Обучаем модель\n",
    "gbt = ensemble.GradientBoostingClassifier(n_estimators=100, random_state=11)\n",
    "gbt.fit(X_train, y_train)\n",
    "\n",
    "# Оценка ошибок\n",
    "err_train = np.mean(y_train != gbt.predict(X_train))\n",
    "err_test  = np.mean(y_test  != gbt.predict(X_test))"
   ]
  },
  {
   "cell_type": "code",
   "execution_count": null,
   "metadata": {},
   "outputs": [],
   "source": [
    "#Вывод процента ошибок\n",
    "print(err_train, err_test)"
   ]
  },
  {
   "cell_type": "markdown",
   "metadata": {},
   "source": [
    "Точность 88 и 86%\n",
    "0.222 и 0,245"
   ]
  },
  {
   "cell_type": "markdown",
   "metadata": {},
   "source": [
    "Из-за слишком большого объёма данных не хватает мощностей для более лучшего анализа моделей классификации, поэтому, к сожалению, можно зафиксировать наилучший показатель на данный момент: **Точность 86% и 91%, 0,147 и 0,092**."
   ]
  },
  {
   "cell_type": "markdown",
   "metadata": {},
   "source": [
    "## 3.5 Интерактивная карта"
   ]
  },
  {
   "cell_type": "markdown",
   "metadata": {},
   "source": [
    "Загрузим данные геопозиции из первой сессии для последующей работы"
   ]
  },
  {
   "cell_type": "code",
   "execution_count": 14,
   "metadata": {},
   "outputs": [
    {
     "data": {
      "text/html": [
       "<div>\n",
       "<style scoped>\n",
       "    .dataframe tbody tr th:only-of-type {\n",
       "        vertical-align: middle;\n",
       "    }\n",
       "\n",
       "    .dataframe tbody tr th {\n",
       "        vertical-align: top;\n",
       "    }\n",
       "\n",
       "    .dataframe thead th {\n",
       "        text-align: right;\n",
       "    }\n",
       "</style>\n",
       "<table border=\"1\" class=\"dataframe\">\n",
       "  <thead>\n",
       "    <tr style=\"text-align: right;\">\n",
       "      <th></th>\n",
       "      <th>point</th>\n",
       "    </tr>\n",
       "  </thead>\n",
       "  <tbody>\n",
       "    <tr>\n",
       "      <th>0</th>\n",
       "      <td>{'lat': 53.361674, 'long': 83.770891}</td>\n",
       "    </tr>\n",
       "    <tr>\n",
       "      <th>1</th>\n",
       "      <td>{'lat': 53.379437, 'long': 83.997624}</td>\n",
       "    </tr>\n",
       "    <tr>\n",
       "      <th>2</th>\n",
       "      <td>{'lat': 53.852527, 'long': 83.47219}</td>\n",
       "    </tr>\n",
       "    <tr>\n",
       "      <th>3</th>\n",
       "      <td>{'lat': 52.21802, 'long': 79.190655}</td>\n",
       "    </tr>\n",
       "    <tr>\n",
       "      <th>4</th>\n",
       "      <td>{'lat': 53.358966, 'long': 83.659204}</td>\n",
       "    </tr>\n",
       "    <tr>\n",
       "      <th>...</th>\n",
       "      <td>...</td>\n",
       "    </tr>\n",
       "    <tr>\n",
       "      <th>735091</th>\n",
       "      <td>{'lat': 57.26, 'long': 39.154}</td>\n",
       "    </tr>\n",
       "    <tr>\n",
       "      <th>735092</th>\n",
       "      <td>{'lat': 57.270551, 'long': 39.13197}</td>\n",
       "    </tr>\n",
       "    <tr>\n",
       "      <th>735093</th>\n",
       "      <td>{'lat': 57.149, 'long': 37.794}</td>\n",
       "    </tr>\n",
       "    <tr>\n",
       "      <th>735094</th>\n",
       "      <td>{'lat': 57.261182, 'long': 39.153482}</td>\n",
       "    </tr>\n",
       "    <tr>\n",
       "      <th>735095</th>\n",
       "      <td>{'lat': 57.272106, 'long': 39.154383}</td>\n",
       "    </tr>\n",
       "  </tbody>\n",
       "</table>\n",
       "<p>735096 rows × 1 columns</p>\n",
       "</div>"
      ],
      "text/plain": [
       "                                        point\n",
       "0       {'lat': 53.361674, 'long': 83.770891}\n",
       "1       {'lat': 53.379437, 'long': 83.997624}\n",
       "2        {'lat': 53.852527, 'long': 83.47219}\n",
       "3        {'lat': 52.21802, 'long': 79.190655}\n",
       "4       {'lat': 53.358966, 'long': 83.659204}\n",
       "...                                       ...\n",
       "735091         {'lat': 57.26, 'long': 39.154}\n",
       "735092   {'lat': 57.270551, 'long': 39.13197}\n",
       "735093        {'lat': 57.149, 'long': 37.794}\n",
       "735094  {'lat': 57.261182, 'long': 39.153482}\n",
       "735095  {'lat': 57.272106, 'long': 39.154383}\n",
       "\n",
       "[735096 rows x 1 columns]"
      ]
     },
     "execution_count": 14,
     "metadata": {},
     "output_type": "execute_result"
    }
   ],
   "source": [
    "#Загружаем обработанный датасет в предыдущей сессии \n",
    "geo = pd.read_csv('Geoposition.csv')\n",
    "geo = geo.drop('Unnamed: 0', axis=1)\n",
    "#Проверяем датасет\n",
    "geo"
   ]
  },
  {
   "cell_type": "code",
   "execution_count": 15,
   "metadata": {},
   "outputs": [],
   "source": [
    "#Разделяем в колонке point долготу и ширину\n",
    "geo = geo['point'].str.split(',',expand=True)\n",
    "\n",
    "#Переименовываем столбцы из 0 в lat, из 1 в long\n",
    "geo.columns=['lat','long']\n",
    "\n",
    "#Удаляем мешающие символы с lat\n",
    "geo['lat'] = geo['lat'].str.replace('{','')\n",
    "geo['lat'] = geo['lat'].str.replace('lat','')\n",
    "geo['lat'] = geo['lat'].str.replace(':','')\n",
    "geo['lat'] = geo['lat'].str.replace(' ','')\n",
    "geo['lat'] = geo['lat'].str.replace(\"''\",'')\n",
    "#Удаляем мешающие символы с long\n",
    "geo['long'] = geo['long'].str.replace('}','')\n",
    "geo['long'] = geo['long'].str.replace('long','')\n",
    "geo['long'] = geo['long'].str.replace(':','')\n",
    "geo['long'] = geo['long'].str.replace(' ','')\n",
    "geo['long'] = geo['long'].str.replace(\"''\",'')\n",
    "#Удаляем промущенные координаты ширины и долготы\n",
    "geo = geo[~geo['lat'].isin(['None'])]\n",
    "geo = geo[~geo['long'].isin(['None'])]\n",
    "#Конвертируем в вещественные числа\n",
    "geo['lat'] = geo['lat'].astype(float)\n",
    "geo['long'] = geo['long'].astype(float)"
   ]
  },
  {
   "cell_type": "code",
   "execution_count": 16,
   "metadata": {},
   "outputs": [
    {
     "data": {
      "text/html": [
       "<div>\n",
       "<style scoped>\n",
       "    .dataframe tbody tr th:only-of-type {\n",
       "        vertical-align: middle;\n",
       "    }\n",
       "\n",
       "    .dataframe tbody tr th {\n",
       "        vertical-align: top;\n",
       "    }\n",
       "\n",
       "    .dataframe thead th {\n",
       "        text-align: right;\n",
       "    }\n",
       "</style>\n",
       "<table border=\"1\" class=\"dataframe\">\n",
       "  <thead>\n",
       "    <tr style=\"text-align: right;\">\n",
       "      <th></th>\n",
       "      <th>lat</th>\n",
       "      <th>long</th>\n",
       "    </tr>\n",
       "  </thead>\n",
       "  <tbody>\n",
       "    <tr>\n",
       "      <th>0</th>\n",
       "      <td>53.361674</td>\n",
       "      <td>83.770891</td>\n",
       "    </tr>\n",
       "    <tr>\n",
       "      <th>1</th>\n",
       "      <td>53.379437</td>\n",
       "      <td>83.997624</td>\n",
       "    </tr>\n",
       "    <tr>\n",
       "      <th>2</th>\n",
       "      <td>53.852527</td>\n",
       "      <td>83.472190</td>\n",
       "    </tr>\n",
       "    <tr>\n",
       "      <th>3</th>\n",
       "      <td>52.218020</td>\n",
       "      <td>79.190655</td>\n",
       "    </tr>\n",
       "    <tr>\n",
       "      <th>4</th>\n",
       "      <td>53.358966</td>\n",
       "      <td>83.659204</td>\n",
       "    </tr>\n",
       "    <tr>\n",
       "      <th>...</th>\n",
       "      <td>...</td>\n",
       "      <td>...</td>\n",
       "    </tr>\n",
       "    <tr>\n",
       "      <th>735091</th>\n",
       "      <td>57.260000</td>\n",
       "      <td>39.154000</td>\n",
       "    </tr>\n",
       "    <tr>\n",
       "      <th>735092</th>\n",
       "      <td>57.270551</td>\n",
       "      <td>39.131970</td>\n",
       "    </tr>\n",
       "    <tr>\n",
       "      <th>735093</th>\n",
       "      <td>57.149000</td>\n",
       "      <td>37.794000</td>\n",
       "    </tr>\n",
       "    <tr>\n",
       "      <th>735094</th>\n",
       "      <td>57.261182</td>\n",
       "      <td>39.153482</td>\n",
       "    </tr>\n",
       "    <tr>\n",
       "      <th>735095</th>\n",
       "      <td>57.272106</td>\n",
       "      <td>39.154383</td>\n",
       "    </tr>\n",
       "  </tbody>\n",
       "</table>\n",
       "<p>728167 rows × 2 columns</p>\n",
       "</div>"
      ],
      "text/plain": [
       "              lat       long\n",
       "0       53.361674  83.770891\n",
       "1       53.379437  83.997624\n",
       "2       53.852527  83.472190\n",
       "3       52.218020  79.190655\n",
       "4       53.358966  83.659204\n",
       "...           ...        ...\n",
       "735091  57.260000  39.154000\n",
       "735092  57.270551  39.131970\n",
       "735093  57.149000  37.794000\n",
       "735094  57.261182  39.153482\n",
       "735095  57.272106  39.154383\n",
       "\n",
       "[728167 rows x 2 columns]"
      ]
     },
     "execution_count": 16,
     "metadata": {},
     "output_type": "execute_result"
    }
   ],
   "source": [
    "#Проверяем таблицу после обработки\n",
    "geo"
   ]
  },
  {
   "cell_type": "markdown",
   "metadata": {},
   "source": [
    "Выглядит красиво, теперь с помощью библиотеки folium сделаем карту"
   ]
  },
  {
   "cell_type": "code",
   "execution_count": null,
   "metadata": {},
   "outputs": [],
   "source": [
    "#Импортируем библиотеку для создания карт\n",
    "import folium\n",
    "#Создаём карту с появлением по средней наших координат, начальный зум 14 с возможностью интерактивного взаимодействия\n",
    "map = folium.Map(location=[geo.lat.mean(), geo.long.mean()], zoom_start=14, control_scale=True)"
   ]
  },
  {
   "cell_type": "code",
   "execution_count": null,
   "metadata": {
    "scrolled": true
   },
   "outputs": [],
   "source": [
    "map"
   ]
  },
  {
   "cell_type": "markdown",
   "metadata": {},
   "source": [
    "Теперь добавим маркеры на нужные нам геопозиции и покрасим их в разные цвета"
   ]
  },
  {
   "cell_type": "code",
   "execution_count": null,
   "metadata": {},
   "outputs": [],
   "source": [
    "#Создаём карту с появлением по средней наших координат, начальный зум 14 с возможностью интерактивного взаимодействия\n",
    "map = folium.Map(location=[geo.lat.mean(), geo.long.mean()], zoom_start=14, control_scale=True)\n",
    "#Добавляем маркеры, цвет, позицию на карту\n",
    "for index, location_info in geo.iterrows():\n",
    "    folium.Marker([location_info[\"lat\"], location_info[\"long\"]]).add_to(map)"
   ]
  },
  {
   "cell_type": "markdown",
   "metadata": {},
   "source": [
    "Сохраняем карту в HTML страницу"
   ]
  },
  {
   "cell_type": "code",
   "execution_count": null,
   "metadata": {},
   "outputs": [],
   "source": [
    "#Сохранение интерактивной карты\n",
    "map.save('map.html')"
   ]
  },
  {
   "cell_type": "markdown",
   "metadata": {},
   "source": [
    "## 3.6 Отчёт"
   ]
  },
  {
   "cell_type": "markdown",
   "metadata": {},
   "source": [
    "Итог сессии: Слишком большой объём данных был получен для выполнения задания, аппарат, на котором производилась работа не смог быстро и корректно отобразить желаемый результат обучения моделей и интерактивной карты"
   ]
  },
  {
   "cell_type": "code",
   "execution_count": 17,
   "metadata": {},
   "outputs": [],
   "source": [
    "#Сохранение в CSV\n",
    "df.to_csv('C3_M3.csv')\n",
    "df_new.to_csv('C3_M3_new.csv')\n",
    "geo.to_csv('Geoposition.csv')"
   ]
  },
  {
   "cell_type": "code",
   "execution_count": null,
   "metadata": {},
   "outputs": [],
   "source": [
    "#Сохранение HTML\n",
    "!jupyter nbconvert C3_M3.ipynb --to html"
   ]
  }
 ],
 "metadata": {
  "kernelspec": {
   "display_name": "Python 3",
   "language": "python",
   "name": "python3"
  },
  "language_info": {
   "codemirror_mode": {
    "name": "ipython",
    "version": 3
   },
   "file_extension": ".py",
   "mimetype": "text/x-python",
   "name": "python",
   "nbconvert_exporter": "python",
   "pygments_lexer": "ipython3",
   "version": "3.7.4"
  }
 },
 "nbformat": 4,
 "nbformat_minor": 2
}
