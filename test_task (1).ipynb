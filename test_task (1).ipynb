{
 "cells": [
  {
   "cell_type": "markdown",
   "id": "c3ccdb23",
   "metadata": {},
   "source": [
    "### Импорт данных"
   ]
  },
  {
   "cell_type": "markdown",
   "id": "b184eadb",
   "metadata": {},
   "source": [
    "**Выгрузка представленных данных**"
   ]
  },
  {
   "cell_type": "code",
   "execution_count": 75,
   "id": "03b8f94e",
   "metadata": {},
   "outputs": [],
   "source": [
    "import pandas as pd \n",
    "import matplotlib.pyplot as plt\n",
    "import numpy as np\n",
    "from sklearn.metrics import mean_absolute_error as MAE\n",
    "from sklearn.metrics import r2_score\n",
    "from numpy import NaN"
   ]
  },
  {
   "cell_type": "code",
   "execution_count": 2,
   "id": "6daf4ab7",
   "metadata": {},
   "outputs": [
    {
     "name": "stderr",
     "output_type": "stream",
     "text": [
      "C:\\Users\\blend\\AppData\\Local\\Temp\\ipykernel_26276\\778844095.py:1: ParserWarning: Falling back to the 'python' engine because the 'c' engine does not support regex separators (separators > 1 char and different from '\\s+' are interpreted as regex); you can avoid this warning by specifying engine='python'.\n",
      "  data = pd.read_csv(\"traks.csv\",sep='\\;')\n"
     ]
    }
   ],
   "source": [
    "data = pd.read_csv(\"traks.csv\",sep='\\;')"
   ]
  },
  {
   "cell_type": "code",
   "execution_count": 3,
   "id": "7e485eb4",
   "metadata": {},
   "outputs": [
    {
     "data": {
      "text/html": [
       "<div>\n",
       "<style scoped>\n",
       "    .dataframe tbody tr th:only-of-type {\n",
       "        vertical-align: middle;\n",
       "    }\n",
       "\n",
       "    .dataframe tbody tr th {\n",
       "        vertical-align: top;\n",
       "    }\n",
       "\n",
       "    .dataframe thead th {\n",
       "        text-align: right;\n",
       "    }\n",
       "</style>\n",
       "<table border=\"1\" class=\"dataframe\">\n",
       "  <thead>\n",
       "    <tr style=\"text-align: right;\">\n",
       "      <th></th>\n",
       "      <th>track</th>\n",
       "      <th>time</th>\n",
       "      <th>x</th>\n",
       "      <th>y</th>\n",
       "    </tr>\n",
       "  </thead>\n",
       "  <tbody>\n",
       "    <tr>\n",
       "      <th>0</th>\n",
       "      <td>1</td>\n",
       "      <td>10:32:13</td>\n",
       "      <td>1598</td>\n",
       "      <td>526</td>\n",
       "    </tr>\n",
       "    <tr>\n",
       "      <th>1</th>\n",
       "      <td>1</td>\n",
       "      <td>10:32:14</td>\n",
       "      <td>1524</td>\n",
       "      <td>544</td>\n",
       "    </tr>\n",
       "    <tr>\n",
       "      <th>2</th>\n",
       "      <td>1</td>\n",
       "      <td>10:32:15</td>\n",
       "      <td>1441</td>\n",
       "      <td>557</td>\n",
       "    </tr>\n",
       "    <tr>\n",
       "      <th>3</th>\n",
       "      <td>1</td>\n",
       "      <td>10:32:16</td>\n",
       "      <td>1357</td>\n",
       "      <td>392</td>\n",
       "    </tr>\n",
       "    <tr>\n",
       "      <th>4</th>\n",
       "      <td>1</td>\n",
       "      <td>10:32:17</td>\n",
       "      <td>1395</td>\n",
       "      <td>573</td>\n",
       "    </tr>\n",
       "  </tbody>\n",
       "</table>\n",
       "</div>"
      ],
      "text/plain": [
       "   track      time     x    y\n",
       "0      1  10:32:13  1598  526\n",
       "1      1  10:32:14  1524  544\n",
       "2      1  10:32:15  1441  557\n",
       "3      1  10:32:16  1357  392\n",
       "4      1  10:32:17  1395  573"
      ]
     },
     "execution_count": 3,
     "metadata": {},
     "output_type": "execute_result"
    }
   ],
   "source": [
    "data.head()"
   ]
  },
  {
   "cell_type": "markdown",
   "id": "4b6c3ab8",
   "metadata": {},
   "source": [
    "**Обработка данных**"
   ]
  },
  {
   "cell_type": "markdown",
   "id": "a0ecd6d2",
   "metadata": {},
   "source": [
    "*Для начала, столбец time делаем индексным*"
   ]
  },
  {
   "cell_type": "code",
   "execution_count": 50,
   "id": "8b24ed05",
   "metadata": {},
   "outputs": [],
   "source": [
    "data.set_index('time', inplace=True)"
   ]
  },
  {
   "cell_type": "markdown",
   "id": "8ce2b041",
   "metadata": {},
   "source": [
    "*Далее, для простоты работы, разделяем данные на четыре dataframe, с различными траекториями. Всего dataframe получиться четыре, так, как траектории четыре.*"
   ]
  },
  {
   "cell_type": "code",
   "execution_count": 52,
   "id": "252a53fd",
   "metadata": {},
   "outputs": [],
   "source": [
    "track_1 = data[data['track'] == 1]\n",
    "track_2 = data[data['track'] == 2]\n",
    "track_3 = data[data['track'] == 3]\n",
    "track_4 = data[data['track'] == 4]"
   ]
  },
  {
   "cell_type": "markdown",
   "id": "0e1693b5",
   "metadata": {},
   "source": [
    "*Ради интереса посмотрим размерность получившихся данных*"
   ]
  },
  {
   "cell_type": "code",
   "execution_count": 53,
   "id": "57935760",
   "metadata": {},
   "outputs": [
    {
     "name": "stdout",
     "output_type": "stream",
     "text": [
      "(35, 3)\n",
      "(27, 3)\n",
      "(33, 3)\n",
      "(19, 3)\n"
     ]
    }
   ],
   "source": [
    "print(track_1.shape)\n",
    "print(track_2.shape)\n",
    "print(track_3.shape)\n",
    "print(track_4.shape)"
   ]
  },
  {
   "cell_type": "markdown",
   "id": "12d7ece9",
   "metadata": {},
   "source": [
    "### Визуализация"
   ]
  },
  {
   "cell_type": "code",
   "execution_count": 77,
   "id": "d90284cf",
   "metadata": {},
   "outputs": [
    {
     "data": {
      "image/png": "[encoded data removed]",
      "text/plain": [
       "<Figure size 432x288 with 4 Axes>"
      ]
     },
     "metadata": {
      "needs_background": "light"
     },
     "output_type": "display_data"
    }
   ],
   "source": [
    "fig, axes = plt.subplots(nrows=2, ncols=2)\n",
    "track_1.plot(ax=axes[0,0])\n",
    "track_2.plot(ax=axes[0,1])\n",
    "track_3.plot(ax=axes[1,0])\n",
    "track_4.plot(ax=axes[1,1])\n",
    "plt.show()"
   ]
  },
  {
   "cell_type": "markdown",
   "id": "2fa5d2e7",
   "metadata": {},
   "source": [
    "### Алгоритм для сравнения путей"
   ]
  },
  {
   "cell_type": "code",
   "execution_count": 60,
   "id": "81cb6204",
   "metadata": {},
   "outputs": [],
   "source": [
    "# Функция для интерполяции траектории \n",
    "def df_interpolate(data):\n",
    "    prev_index = 0 # Переменная для сохранения предыдущего значения индекса\n",
    "    counter = 0 # Переменная для числового доступа (enumerate неприменим к .iterrows)\n",
    "    # Иттерация по каждой строке \n",
    "    for index, row in data.iterrows():\n",
    "        counter =+1\n",
    "        if index == prev_index:              # В случае совпадения текущего значения индекса с предыдущим\n",
    "            data.iloc[[counter]] = NaN    # Значение строки = NaN\n",
    "        prev_index = index\n",
    "    return data.interpolate(method = \"linear\") # Линейная интерполяция пустых значений"
   ]
  },
  {
   "cell_type": "code",
   "execution_count": 61,
   "id": "942d1ac0",
   "metadata": {},
   "outputs": [],
   "source": [
    "# Функция для создания новых индексов \n",
    "def get_new_index(start, end, size):\n",
    "    dates = []\n",
    "    index = pd.date_range(start = start, end = end, periods = size) # Указываем нужный период и количество промежутков\n",
    "    # Конвертация datetime к формату h:m:s\n",
    "    for i in index:\n",
    "        dates.append(f\"{i.hour}:{i.minute}:{i.second if i.second >= 10 else '0' + str(i.second)}\")  \n",
    "    return dates"
   ]
  },
  {
   "cell_type": "code",
   "execution_count": 62,
   "id": "73e07994",
   "metadata": {},
   "outputs": [],
   "source": [
    "# Функция для сравнения двух траекторий\n",
    "def compare_tracks(first_track, second_track):\n",
    " \n",
    "    # Сравниваем размер треков - нужно выделить больший и меньший\n",
    "    # Если первая траектория больше (по количеству точек):\n",
    "    if first_track.shape[0] > second_track.shape[0]:\n",
    "        size = first_track.shape[0]   # Возьмем размер наибольшей траектории\n",
    "        start = second_track.index[0]  # Начальный период измерений наименьшей точки\n",
    "        end = second_track.index[-1]    # Конечный период измерений наименьшей точки\n",
    "        second_track = second_track.reindex(get_new_index(start, end, size)) # Обновим меньшую траекторию (новые индексы)\n",
    "        second_track = df_interpolate(second_track)  # Интерполяция наименьшей траектории\n",
    "    # Аналогично для обратного случая\n",
    "    elif first_track.shape[0] < second_track.shape[0]:\n",
    "        size = second_track.shape[0]\n",
    "        start = first_track.index[0]\n",
    "        end = first_track.index[-1]\n",
    "        first_track = first_track.reindex(get_new_index(start, end, size))\n",
    "        first_track = df_interpolate(first_track) \n",
    "    # Для определения степени схожести путей используем R2-score\n",
    "    return r2_score(first_track[[\"x\",\"y\"]], second_track[[\"x\",\"y\"]])"
   ]
  },
  {
   "cell_type": "code",
   "execution_count": 65,
   "id": "49cddcbb",
   "metadata": {},
   "outputs": [
    {
     "data": {
      "text/plain": [
       "0.8823639256234281"
      ]
     },
     "execution_count": 65,
     "metadata": {},
     "output_type": "execute_result"
    }
   ],
   "source": [
    "# Сравним совпадение 1 и 3 траектории\n",
    "compare_tracks(track_1, track_3)"
   ]
  },
  {
   "cell_type": "code",
   "execution_count": 66,
   "id": "2bb392a0",
   "metadata": {},
   "outputs": [
    {
     "data": {
      "text/plain": [
       "0.4542259725998696"
      ]
     },
     "execution_count": 66,
     "metadata": {},
     "output_type": "execute_result"
    }
   ],
   "source": [
    "# Отличие 1 и 2 траектории\n",
    "compare_tracks(track_1, track_2)"
   ]
  },
  {
   "cell_type": "code",
   "execution_count": 67,
   "id": "a3a22998",
   "metadata": {},
   "outputs": [
    {
     "data": {
      "text/plain": [
       "0.3023663653145285"
      ]
     },
     "execution_count": 67,
     "metadata": {},
     "output_type": "execute_result"
    }
   ],
   "source": [
    "# Существенное отличие от 4 траектории\n",
    "compare_tracks(track_4, track_3)"
   ]
  }
 ],
 "metadata": {
  "kernelspec": {
   "display_name": "Python 3 (ipykernel)",
   "language": "python",
   "name": "python3"
  },
  "language_info": {
   "codemirror_mode": {
    "name": "ipython",
    "version": 3
   },
   "file_extension": ".py",
   "mimetype": "text/x-python",
   "name": "python",
   "nbconvert_exporter": "python",
   "pygments_lexer": "ipython3",
   "version": "3.9.12"
  }
 },
 "nbformat": 4,
 "nbformat_minor": 5
}
